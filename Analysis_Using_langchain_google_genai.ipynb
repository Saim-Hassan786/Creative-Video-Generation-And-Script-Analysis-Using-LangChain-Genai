{
  "nbformat": 4,
  "nbformat_minor": 0,
  "metadata": {
    "colab": {
      "provenance": [],
      "mount_file_id": "16eJ6b0A1zBsIhsXGatT0MMKJUMlk7rlT",
      "authorship_tag": "ABX9TyMFDSG2lFmiMXuwcb8/HoFm",
      "include_colab_link": true
    },
    "kernelspec": {
      "name": "python3",
      "display_name": "Python 3"
    },
    "language_info": {
      "name": "python"
    }
  },
  "cells": [
    {
      "cell_type": "markdown",
      "metadata": {
        "id": "view-in-github",
        "colab_type": "text"
      },
      "source": [
        "<a href=\"https://colab.research.google.com/github/Saim-Hassan786/Creative-Video-Generation-And-Script-Analysis-Using-LangChain-Genai/blob/main/Analysis_Using_langchain_google_genai.ipynb\" target=\"_parent\"><img src=\"https://colab.research.google.com/assets/colab-badge.svg\" alt=\"Open In Colab\"/></a>"
      ]
    },
    {
      "cell_type": "markdown",
      "source": [
        "**The following code installs the necessary Python libraries for working with LangChain and Google Generative AI models. The first line installs or updates the LangChain library, which helps connecting various tools, APIs, and data sources. The second line installs or updates the Google Generative AI library, which is used to interact with AI models developed by Google, enabling features like text generation and natural language processing. The third line installs the LangChain-Google-GenAI integration, which connects LangChain with Google’s AI models for seamless interaction. The -q flag ensures that the installation runs quietly, reducing unnecessary output, and the -U flag updates the package to the latest version if it's already installed. Together, these commands prepare the environment for building AI applications that leverage both LangChain’s workflow management and Google’s AI capabilities.**"
      ],
      "metadata": {
        "id": "JF8VlMsFnkAZ"
      }
    },
    {
      "cell_type": "code",
      "execution_count": null,
      "metadata": {
        "colab": {
          "base_uri": "https://localhost:8080/"
        },
        "id": "xqaJm5BjcQe-",
        "outputId": "e8278977-a747-44c1-f249-b7ad66e772c1"
      },
      "outputs": [
        {
          "output_type": "stream",
          "name": "stdout",
          "text": [
            "\u001b[?25l   \u001b[90m━━━━━━━━━━━━━━━━━━━━━━━━━━━━━━━━━━━━━━━━\u001b[0m \u001b[32m0.0/1.0 MB\u001b[0m \u001b[31m?\u001b[0m eta \u001b[36m-:--:--\u001b[0m\r\u001b[2K   \u001b[91m━━━━━━━━━━━━━━━━━━━━━━━━━━━━━━━━━━━━━━━\u001b[0m\u001b[91m╸\u001b[0m \u001b[32m1.0/1.0 MB\u001b[0m \u001b[31m30.5 MB/s\u001b[0m eta \u001b[36m0:00:01\u001b[0m\r\u001b[2K   \u001b[90m━━━━━━━━━━━━━━━━━━━━━━━━━━━━━━━━━━━━━━━━\u001b[0m \u001b[32m1.0/1.0 MB\u001b[0m \u001b[31m15.0 MB/s\u001b[0m eta \u001b[36m0:00:00\u001b[0m\n",
            "\u001b[2K   \u001b[90m━━━━━━━━━━━━━━━━━━━━━━━━━━━━━━━━━━━━━━━━\u001b[0m \u001b[32m411.6/411.6 kB\u001b[0m \u001b[31m17.3 MB/s\u001b[0m eta \u001b[36m0:00:00\u001b[0m\n",
            "\u001b[2K   \u001b[90m━━━━━━━━━━━━━━━━━━━━━━━━━━━━━━━━━━━━━━━━\u001b[0m \u001b[32m41.3/41.3 kB\u001b[0m \u001b[31m2.9 MB/s\u001b[0m eta \u001b[36m0:00:00\u001b[0m\n",
            "\u001b[?25h"
          ]
        }
      ],
      "source": [
        "!pip install -q -U langchain\n",
        "!pip install -q -U google-genai\n",
        "!pip install -q -U langchain-google-genai"
      ]
    },
    {
      "cell_type": "markdown",
      "source": [
        "**Now the code below sets up access to Google's APIs by securely storing and retrieving an API key. The first line imports the userdata module from Google Colab, which is used to handle user-specific data securely. The second line imports the os module, which provides functions for interacting with the operating system, such as managing environment variables. The third line sets an environment variable called GOOGLE_API_KEY using the API key stored in userdata. This environment variable is used to authenticate requests to Google’s APIs, ensuring secure access without directly exposing the key in the code. By retrieving the key dynamically, it prevents hardcoding sensitive information, improving security.**"
      ],
      "metadata": {
        "id": "TeRF2KTEoHlz"
      }
    },
    {
      "cell_type": "code",
      "source": [
        "from google.colab import userdata\n",
        "import os\n",
        "os.environ[\"GOOGLE_API_KEY\"] = userdata.get('GOOGLE_API_KEY')"
      ],
      "metadata": {
        "id": "Ib40QSR5n3DK"
      },
      "execution_count": null,
      "outputs": []
    },
    {
      "cell_type": "markdown",
      "source": [
        "**The following code imports tools to work with Google's Gemini AI model using the LangChain framework. The first line imports the ChatGoogleGenerativeAI class, which allows interaction with the Gemini language model. The second line imports content handling tools like Content and Part, which help structure input data (e.g., text or multimedia) for the model. The third line imports display utilities from IPython to format and show outputs, such as Markdown text, in a notebook interface. Together, these components enable building chat-based AI applications, processing structured inputs, and displaying responses neatly in notebooks.**"
      ],
      "metadata": {
        "id": "8D89OPt8Fiek"
      }
    },
    {
      "cell_type": "code",
      "source": [
        "from langchain_google_genai import ChatGoogleGenerativeAI\n",
        "from google.genai.types import Content , Part\n",
        "from IPython.display import Markdown,display"
      ],
      "metadata": {
        "id": "1x9bykLKoLmh"
      },
      "execution_count": null,
      "outputs": []
    },
    {
      "cell_type": "markdown",
      "source": [
        "**Now by the help of code below I imports tools to work with Google's Gemini AI model using the LangChain framework. The first line imports the ChatGoogleGenerativeAI class, which allows interaction with the Gemini language model. The second line imports content handling tools like Content and Part, which help structure input data (e.g., text or multimedia) for the model. The third line imports display utilities from IPython to format and show outputs, such as Markdown text, in a notebook interface. Together, these components enable building chat-based AI applications, processing structured inputs, and displaying responses neatly in notebooks.**"
      ],
      "metadata": {
        "id": "1QBrGZRFFxvM"
      }
    },
    {
      "cell_type": "code",
      "source": [
        "llm = ChatGoogleGenerativeAI(\n",
        "    model = \"gemini-2.0-flash-exp\",\n",
        "    api_key= userdata.get(\"GOOGLE_API_KEY\"),\n",
        "    temperature=0.5\n",
        ")"
      ],
      "metadata": {
        "id": "FuhVbeMstX4h"
      },
      "execution_count": null,
      "outputs": []
    },
    {
      "cell_type": "markdown",
      "source": [
        "**Below code uses the gdown library to download two video files from Google Drive using their unique file IDs. The url_1 and url_2 variables store the download links, which are formatted to allow direct downloads by appending the file IDs to the URL. The output file paths, output_path_1 and output_path_2, specify where the downloaded videos will be saved on the local system, in this case, under the /content/ directory with filenames Lonely_Moon.mp4 and Mashroom.mp4. The gdown.download() function retrieves each video from the given URL and saves it to the specified path, with the quiet=True parameter suppressing unnecessary output during the download process. Once both files are successfully downloaded, the code prints confirmation messages indicating the saved file locations. This setup is useful for automating the download of files from Google Drive without requiring manual intervention. The use of pre-formatted URLs simplifies the process, ensuring compatibility with scripts and cloud environments like Google Colab.**\n",
        "\n",
        "**Both of the above videos are AI Generated Video that I created from Invideo.ai which is an Platform that Creates Videos In Response to the Text**\n",
        "\n",
        "\n",
        "**For the Creation of First video , I used the following prompt below:**\n",
        "\n",
        "#\"A lone silhouette of a horse and rider stands majestically atop a hill, framed by the glow of a vast, yellow moon in the night sky. The serene scene captures a sense of solitude and mystery under the moonlit horizon. Gentle movements of the rider and horse blend with the stillness of the landscape, evoking a timeless, cinematic moment\"\n",
        "\n",
        "**For the Creation of Second video , I used the following prompt below:**\n",
        "\n",
        "\n",
        "#\"A large glowing mushroom in the center of the frame shifts between green and blue hues, surrounded by smaller glowing flowers. The vibrant colors of the mushroom change over time, alternating between green and blue, creating a mesmerizing effect. The smaller flowers continue to glow around the mushroom, enhancing the mystical atmosphere.\"\n"
      ],
      "metadata": {
        "id": "fhuxWuGfHYhA"
      }
    },
    {
      "cell_type": "code",
      "source": [
        "import gdown\n",
        "url_1 = \"https://drive.google.com/uc?export=download&id=1vcWNpPH-eBQL1myJu5ix4pQr2uTud_UC\"\n",
        "url_2 = \"https://drive.google.com/uc?export=download&id=1-5lL2l7NWEC8jMe-tVbJvpklSgVbkEHI\"\n",
        "output_path_1 = '/content/Lonely_Moon.mp4'\n",
        "output_path_2 = '/content/Mashroom.mp4'\n",
        "gdown.download(url_1, output_path_1, quiet=True)\n",
        "gdown.download(url_2, output_path_2, quiet=True)\n",
        "print(f\"Video downloaded successfully: {output_path_1}\")\n",
        "print(f\"Video downloaded successfully: {output_path_2}\")"
      ],
      "metadata": {
        "colab": {
          "base_uri": "https://localhost:8080/"
        },
        "id": "02VHaLkQup4P",
        "outputId": "2822a4da-5d0b-4fda-f7e6-739e49e54f6d"
      },
      "execution_count": null,
      "outputs": [
        {
          "output_type": "stream",
          "name": "stdout",
          "text": [
            "Video downloaded successfully: /content/Lonely_Moon.mp4\n",
            "Video downloaded successfully: /content/Mashroom.mp4\n"
          ]
        }
      ]
    },
    {
      "cell_type": "markdown",
      "source": [
        "**This code defines a function to upload videos to Google GenAI's API.**\n",
        "\n",
        "1. It imports necessary libraries, including `time` for waiting and `genai` to interact with the API.\n",
        "2. The `client` is initialized with the Google API key from the `userdata` dictionary.\n",
        "3. It defines two variables: `video_1_moon` and `video_2_mushroom` as paths to video files.\n",
        "4. The `upload_video` function is created to handle the video upload process.\n",
        "5. The video is uploaded using `client.files.upload()`.\n",
        "6. It checks if the video is still processing, and waits for 10 seconds before checking again.\n",
        "7. If the video processing is successful, it does nothing and moves on.\n",
        "8. If the video processing fails, it raises an error.\n",
        "9. Once processing is complete, the video URI (link) is printed.\n",
        "10. Finally, it returns the video file details once uploaded successfully."
      ],
      "metadata": {
        "id": "iSSMxLgUJNvw"
      }
    },
    {
      "cell_type": "code",
      "source": [
        "import time\n",
        "from google import genai\n",
        "\n",
        "client = genai.Client(api_key=userdata.get(\"GOOGLE_API_KEY\"))\n",
        "video_1_moon = \"/content/Lonely_Moon.mp4\"\n",
        "video_2_mushroom = \"/content/Mashroom.mp4\"\n",
        "\n",
        "def upload_video(video_file_name):\n",
        "  video_file = client.files.upload(path = video_file_name)\n",
        "  while video_file.state == \"PROCESSING\":\n",
        "    print(\"Video Is Being Processed , Kindly Wait!\")\n",
        "    time.sleep(10)\n",
        "    video_file = client.files.get(name = video_file.name or \"\")\n",
        "  if video_file.state == \"SUCCESS\":\n",
        "    pass\n",
        "  elif video_file.state == \"FAILED\":\n",
        "    raise ValueError(video_file.state)\n",
        "  print(f'Video processing complete: ' + (video_file.uri or \"\"))\n",
        "  return video_file"
      ],
      "metadata": {
        "id": "OHoIakt8GIYv"
      },
      "execution_count": null,
      "outputs": []
    },
    {
      "cell_type": "code",
      "source": [
        "video_moon = upload_video(video_1_moon)\n",
        "video_mushroom = upload_video(video_2_mushroom)"
      ],
      "metadata": {
        "colab": {
          "base_uri": "https://localhost:8080/"
        },
        "id": "lVOEEU4OXGk2",
        "outputId": "2826e03b-b657-4d0d-985a-2c0f6929272b"
      },
      "execution_count": null,
      "outputs": [
        {
          "output_type": "stream",
          "name": "stdout",
          "text": [
            "Video Is Being Processed , Kindly Wait!\n",
            "Video processing complete: https://generativelanguage.googleapis.com/v1beta/files/2h8kf2j67vnf\n",
            "Video Is Being Processed , Kindly Wait!\n",
            "Video processing complete: https://generativelanguage.googleapis.com/v1beta/files/a7xxrsuuvvn3\n"
          ]
        }
      ]
    },
    {
      "cell_type": "markdown",
      "source": [
        "\n",
        "**This code defines a function analyze_video_with_langchain that analyzes a video using LangChain. The function starts by defining a prompt template asking for scene descriptions and captions, including any spoken text in the video. It then sends a request to the GenAI model, specifically the \"gemini-2.0-flash-exp\" model, to generate content based on the video file. The video file is passed as a URI, and the mime type is specified. Along with the video, the prompt template is also sent, which instructs the model to create captions and timecodes for each scene. Once the analysis is complete, the function prints the results and displays them using Markdown. The output will contain the generated captions describing the scenes and any spoken text from the video.**"
      ],
      "metadata": {
        "id": "340QJOTRJiGn"
      }
    },
    {
      "cell_type": "code",
      "source": [
        "def analyze_video_with_langchain(video_file):\n",
        "  prompt_template = \"\"\"\n",
        "  For each scene in this video,\n",
        "  generate captions that describe the scene along with any spoken text placed in quotation marks.\n",
        "  Place each caption into an object with the timecode of the caption in the video.\n",
        "         \"\"\"\n",
        "\n",
        "  response = client.models.generate_content(\n",
        "    model=\"gemini-2.0-flash-exp\",\n",
        "    contents=[\n",
        "        Content(\n",
        "            role=\"user\",\n",
        "            parts=[\n",
        "                Part.from_uri(\n",
        "                    file_uri=video_file.uri or \"\",\n",
        "                    mime_type=video_file.mime_type or \"\"),\n",
        "            ]),\n",
        "        Content(\n",
        "            role=\"user\",\n",
        "            parts=[Part(text=prompt_template)]\n",
        "        )\n",
        "    ]\n",
        "  )\n",
        "  print(\"Video Analysis:\")\n",
        "  display(Markdown(response.text))\n"
      ],
      "metadata": {
        "id": "KaN8vy7g0nCB"
      },
      "execution_count": null,
      "outputs": []
    },
    {
      "cell_type": "code",
      "source": [
        "video_1 = video_moon\n",
        "analyze_video_with_langchain(video_1)"
      ],
      "metadata": {
        "colab": {
          "base_uri": "https://localhost:8080/",
          "height": 576
        },
        "id": "ZUYy7GZU1UO4",
        "outputId": "c8e5c0fa-e729-4fb2-a61e-55c0e1594173"
      },
      "execution_count": null,
      "outputs": [
        {
          "output_type": "stream",
          "name": "stdout",
          "text": [
            "Video Analysis:\n"
          ]
        },
        {
          "output_type": "display_data",
          "data": {
            "text/plain": [
              "<IPython.core.display.Markdown object>"
            ],
            "text/markdown": "```json\n[\n  {\n    \"timecode\": \"00:00\",\n    \"caption\": \"A silhouette of a horse and a person stands on a ridge in front of a large full moon. A tree is also visible. A shooting star is seen in the starry night sky.\"\n  },\n  {\n    \"timecode\": \"00:01\",\n     \"caption\": \"A silhouette of a horse and a person stands on a ridge in front of a large full moon. A tree is also visible. A shooting star is seen in the starry night sky.\"\n  },\n   {\n    \"timecode\": \"00:02\",\n     \"caption\":\"A silhouette of a horse and a person stands on a ridge in front of a large full moon. A tree is also visible. A shooting star is seen in the starry night sky.\"\n  },\n   {\n    \"timecode\": \"00:03\",\n     \"caption\": \"A silhouette of a horse and a person stands on a ridge in front of a large full moon. A tree is also visible. A shooting star is seen in the starry night sky.\"\n  },\n  {\n    \"timecode\": \"00:04\",\n    \"caption\": \"A silhouette of a horse and a person stands on a ridge in front of a large full moon. A tree is also visible. A shooting star is seen in the starry night sky.\"\n  },\n  {\n    \"timecode\":\"00:05\",\n      \"caption\":\"A silhouette of a horse and a person stands on a ridge in front of a large full moon. A tree is also visible. A shooting star is seen in the starry night sky.\"\n  },\n    {\n    \"timecode\":\"00:06\",\n      \"caption\":\"A silhouette of a horse and a person stands on a ridge in front of a large full moon. A tree is also visible. A shooting star is seen in the starry night sky.\"\n  }\n]\n```\n"
          },
          "metadata": {}
        }
      ]
    },
    {
      "cell_type": "code",
      "source": [
        "video_2 = video_mushroom\n",
        "analyze_video_with_langchain(video_2)"
      ],
      "metadata": {
        "colab": {
          "base_uri": "https://localhost:8080/",
          "height": 1000
        },
        "id": "wBUYn_8B9xFH",
        "outputId": "b9c606e4-588c-4978-b28c-fc2205f72f38"
      },
      "execution_count": null,
      "outputs": [
        {
          "output_type": "stream",
          "name": "stdout",
          "text": [
            "Video Analysis:\n"
          ]
        },
        {
          "output_type": "display_data",
          "data": {
            "text/plain": [
              "<IPython.core.display.Markdown object>"
            ],
            "text/markdown": "```json\n[\n  {\n    \"timecode\": \"00:00\",\n    \"caption\": \"A large green, glowing mushroom dominates the center of the frame, with smaller glowing flowers surrounding it in the dark.\"\n  },\n  {\n    \"timecode\": \"00:01\",\n     \"caption\": \"The mushroom's glow shifts to a blue hue, still surrounded by smaller, glowing flowers.\"\n  },\n    {\n    \"timecode\": \"00:02\",\n     \"caption\": \"The mushroom's glow returns to green, with smaller glowing flowers at its base.\"\n  },\n    {\n    \"timecode\": \"00:03\",\n     \"caption\": \"The glowing mushroom is green, with smaller flowers around it.\"\n  },\n    {\n    \"timecode\": \"00:04\",\n    \"caption\": \"The mushroom's glow shifts to blue, surrounded by smaller glowing flowers.\"\n  },\n    {\n    \"timecode\": \"00:05\",\n     \"caption\": \"The glowing mushroom is blue, with smaller flowers around it.\"\n  },\n    {\n    \"timecode\": \"00:06\",\n     \"caption\":\"The glowing mushroom is green, with smaller flowers around it.\"\n  },\n    {\n    \"timecode\": \"00:07\",\n    \"caption\": \"The glowing mushroom is green, with smaller flowers around it.\"\n  },\n      {\n    \"timecode\": \"00:08\",\n    \"caption\": \"The mushroom's glow shifts to blue, still surrounded by smaller glowing flowers.\"\n  },\n    {\n    \"timecode\": \"00:09\",\n    \"caption\": \"The mushroom's glow returns to green, with smaller glowing flowers around it.\"\n  },\n    {\n    \"timecode\": \"00:10\",\n    \"caption\": \"The glowing mushroom is blue, with smaller flowers surrounding it.\"\n  },\n    {\n    \"timecode\": \"00:11\",\n    \"caption\": \"The mushroom's glow remains blue, with smaller glowing flowers at its base.\"\n  },\n      {\n    \"timecode\": \"00:12\",\n    \"caption\": \"The mushroom's glow remains blue, with smaller flowers around it.\"\n  },\n    {\n    \"timecode\": \"00:13\",\n     \"caption\":\"The glowing mushroom is green, with smaller flowers around it.\"\n  },\n    {\n    \"timecode\": \"00:14\",\n    \"caption\":\"The glowing mushroom is green, with smaller flowers around it.\"\n  }\n]\n```\n"
          },
          "metadata": {}
        }
      ]
    },
    {
      "cell_type": "markdown",
      "source": [
        "# Above Are The Outputs By The LLM After Analyzing The Videos In response to My Queries\n"
      ],
      "metadata": {
        "id": "9ayQApI1Jov2"
      }
    }
  ]
}